{
 "cells": [
  {
   "cell_type": "code",
   "execution_count": null,
   "metadata": {},
   "outputs": [],
   "source": [
    "from matplotlib import pyplot as plt\n",
    "from fed_algo import FedAvg, FedAdam, FedAdagrad, FedYogi, FedAlgo, ClientParam, Layers\n",
    "import pandas as pd\n",
    "import numpy as np\n",
    "from typing import Tuple, List\n",
    "from utils import build_model, read_chunk, train_with_data, compute_loss, select_features_name, read_raw_dataset\n",
    "\n",
    "FED_OTP_RESULT = Tuple[Layers, Layers, Layers]"
   ]
  },
  {
   "attachments": {},
   "cell_type": "markdown",
   "metadata": {},
   "source": [
    "# POKEMON\n"
   ]
  },
  {
   "cell_type": "code",
   "execution_count": null,
   "metadata": {},
   "outputs": [],
   "source": [
    "X_raw, y = read_raw_dataset(\"datasets/pokemon.csv\",\n",
    "                            index_col='id',\n",
    "                            target_name='MOS',\n",
    "                            drop=['user_id'])\n",
    "features = select_features_name(X_raw, y)\n",
    "X_test, y_test = read_chunk('pokemon', 0, features)\n",
    "result = {\n",
    "    'num_clients': [5.0, 20.0, 50.0, 100.0, 150.0]\n",
    "}"
   ]
  },
  {
   "attachments": {},
   "cell_type": "markdown",
   "metadata": {},
   "source": [
    "## 5 clients\n"
   ]
  },
  {
   "attachments": {},
   "cell_type": "markdown",
   "metadata": {},
   "source": [
    "prepare dataset\n"
   ]
  },
  {
   "cell_type": "code",
   "execution_count": null,
   "metadata": {},
   "outputs": [],
   "source": [
    "datasets = [\n",
    "    read_chunk('pokemon', chunk_id + 1, features) for chunk_id in range(5)\n",
    "]\n",
    "X_central_raw = pd.concat([X for X, _ in datasets], axis=0)\n",
    "y_central = pd.concat([y for _, y in datasets], axis=0)\n",
    "X_central = X_central_raw[features]"
   ]
  },
  {
   "attachments": {},
   "cell_type": "markdown",
   "metadata": {},
   "source": [
    "init models\n"
   ]
  },
  {
   "cell_type": "code",
   "execution_count": null,
   "metadata": {},
   "outputs": [],
   "source": [
    "central_model = build_model(10)\n",
    "init_weights = central_model.get_weights()\n",
    "\n",
    "fed_algos: List[FedAlgo] = [\n",
    "    FedAvg(init_weights, X_test, y_test),\n",
    "    FedAdam(init_weights, X_test, y_test),\n",
    "    FedAdagrad(init_weights, X_test, y_test),\n",
    "    FedYogi(init_weights, X_test, y_test)\n",
    "]"
   ]
  },
  {
   "cell_type": "code",
   "execution_count": null,
   "metadata": {},
   "outputs": [],
   "source": [
    "# centralized training with data of 5 client\n",
    "central_model.fit(X_central, y_central)\n",
    "\n",
    "# federated training\n",
    "local_models = [train_with_data(init_weights, dataset) for dataset in datasets]\n",
    "for algo in fed_algos:\n",
    "    algo.aggregate(local_models)\n",
    "central_mse = compute_loss(central_model, X_test, y_test)\n",
    "fed_mses = [algo.predict() for algo in fed_algos]\n"
   ]
  },
  {
   "cell_type": "code",
   "execution_count": null,
   "metadata": {},
   "outputs": [],
   "source": [
    "result['central'] = [central_mse]\n",
    "for algo, mse in zip(fed_algos, fed_mses):\n",
    "    result[algo.name()] = [mse]"
   ]
  },
  {
   "attachments": {},
   "cell_type": "markdown",
   "metadata": {},
   "source": [
    "## 20 clients\n"
   ]
  },
  {
   "cell_type": "code",
   "execution_count": null,
   "metadata": {},
   "outputs": [],
   "source": [
    "# next 15 clients\n",
    "datasets = [\n",
    "    read_chunk('pokemon', chunk_id + 6, features) for chunk_id in range(15)\n",
    "]\n",
    "X_central_raw = pd.concat([X_central_raw] + [X for X, _ in datasets], axis=0)\n",
    "y_central = pd.concat([y_central] + [y for _, y in datasets], axis=0)\n",
    "X_central = X_central_raw[features]\n",
    "# centralized training\n",
    "central_model.set_weights(init_weights)\n",
    "central_model.fit(X_central, y_central)\n",
    "\n",
    "# federated training\n",
    "for algo in fed_algos:\n",
    "    local_models = [\n",
    "        train_with_data(algo.get_weights(), dataset) for dataset in datasets\n",
    "    ]\n",
    "    algo.aggregate(local_models)\n",
    "\n",
    "central_mse = compute_loss(central_model, X_test, y_test)\n",
    "fed_mses = [algo.predict() for algo in fed_algos]\n"
   ]
  },
  {
   "cell_type": "code",
   "execution_count": null,
   "metadata": {},
   "outputs": [],
   "source": [
    "result['central'].append(central_mse)\n",
    "for algo, mse in zip(fed_algos, fed_mses):\n",
    "    result[algo.name()].append(mse)"
   ]
  },
  {
   "attachments": {},
   "cell_type": "markdown",
   "metadata": {},
   "source": [
    "## 50 clients\n"
   ]
  },
  {
   "cell_type": "code",
   "execution_count": null,
   "metadata": {},
   "outputs": [],
   "source": [
    "datasets = [\n",
    "    read_chunk('pokemon', chunk_id + 21, features) for chunk_id in range(30)\n",
    "]\n",
    "X_central_raw = pd.concat([X_central_raw] + [X for X, _ in datasets], axis=0)\n",
    "y_central = pd.concat([y_central] + [y for _, y in datasets], axis=0)\n",
    "X_central = X_central_raw[features]\n",
    "\n",
    "# centralized training\n",
    "central_model.fit(X_central, y_central)\n",
    "\n",
    "# federated training\n",
    "for algo in fed_algos:\n",
    "    local_models = [\n",
    "        train_with_data(algo.get_weights(), dataset) for dataset in datasets\n",
    "    ]\n",
    "    algo.aggregate(local_models)\n",
    "\n",
    "central_mse = compute_loss(central_model, X_test, y_test)\n",
    "fed_mses = [algo.predict() for algo in fed_algos]"
   ]
  },
  {
   "cell_type": "code",
   "execution_count": null,
   "metadata": {},
   "outputs": [],
   "source": [
    "result['central'].append(central_mse)\n",
    "for algo, mse in zip(fed_algos, fed_mses):\n",
    "    result[algo.name()].append(mse)"
   ]
  },
  {
   "attachments": {},
   "cell_type": "markdown",
   "metadata": {},
   "source": [
    "## 100 client\n"
   ]
  },
  {
   "cell_type": "code",
   "execution_count": null,
   "metadata": {},
   "outputs": [],
   "source": [
    "datasets = [\n",
    "    read_chunk('pokemon', chunk_id + 51, features) for chunk_id in range(50)\n",
    "]\n",
    "X_central_raw = pd.concat([X_central_raw] + [X for X, _ in datasets], axis=0)\n",
    "y_central = pd.concat([y_central] + [y for _, y in datasets], axis=0)\n",
    "X_central = X_central_raw[features]\n",
    "\n",
    "# centralized training\n",
    "central_model.fit(X_central, y_central)\n",
    "\n",
    "# federated training\n",
    "for algo in fed_algos:\n",
    "    local_models = [\n",
    "        train_with_data(algo.get_weights(), dataset) for dataset in datasets\n",
    "    ]\n",
    "    algo.aggregate(local_models)\n",
    "\n",
    "central_mse = compute_loss(central_model, X_test, y_test)\n",
    "fed_mses = [algo.predict() for algo in fed_algos]"
   ]
  },
  {
   "cell_type": "code",
   "execution_count": null,
   "metadata": {},
   "outputs": [],
   "source": [
    "result['central'].append(central_mse)\n",
    "for algo, mse in zip(fed_algos, fed_mses):\n",
    "    result[algo.name()].append(mse)"
   ]
  },
  {
   "attachments": {},
   "cell_type": "markdown",
   "metadata": {},
   "source": [
    "## 150 clients\n"
   ]
  },
  {
   "cell_type": "code",
   "execution_count": null,
   "metadata": {},
   "outputs": [],
   "source": [
    "datasets = [\n",
    "    read_chunk('pokemon', chunk_id + 101, features) for chunk_id in range(50)\n",
    "]\n",
    "X_central_raw = pd.concat([X_central_raw] + [X for X, _ in datasets], axis=0)\n",
    "y_central = pd.concat([y_central] + [y for _, y in datasets], axis=0)\n",
    "X_central = X_central_raw[features]\n",
    "\n",
    "# centralized training\n",
    "central_model.fit(X_central, y_central)\n",
    "\n",
    "# federated training\n",
    "for algo in fed_algos:\n",
    "    local_models = [\n",
    "        train_with_data(algo.get_weights(), dataset) for dataset in datasets\n",
    "    ]\n",
    "    algo.aggregate(local_models)\n",
    "\n",
    "central_mse = compute_loss(central_model, X_test, y_test)\n",
    "fed_mses = [algo.predict() for algo in fed_algos]"
   ]
  },
  {
   "cell_type": "code",
   "execution_count": null,
   "metadata": {},
   "outputs": [],
   "source": [
    "result['central'].append(central_mse)\n",
    "for algo, mse in zip(fed_algos, fed_mses):\n",
    "    result[algo.name()].append(mse)"
   ]
  },
  {
   "cell_type": "code",
   "execution_count": null,
   "metadata": {},
   "outputs": [],
   "source": [
    "import json\n",
    "\n",
    "json_result = json.dumps(result, indent=4)\n",
    "print(json_result)"
   ]
  }
 ],
 "metadata": {
  "kernelspec": {
   "display_name": "Python 3",
   "language": "python",
   "name": "python3"
  },
  "language_info": {
   "codemirror_mode": {
    "name": "ipython",
    "version": 3
   },
   "file_extension": ".py",
   "mimetype": "text/x-python",
   "name": "python",
   "nbconvert_exporter": "python",
   "pygments_lexer": "ipython3",
   "version": "3.8.10"
  },
  "orig_nbformat": 4,
  "vscode": {
   "interpreter": {
    "hash": "916dbcbb3f70747c44a77c7bcd40155683ae19c65e1c03b4aa3499c5328201f1"
   }
  }
 },
 "nbformat": 4,
 "nbformat_minor": 2
}
