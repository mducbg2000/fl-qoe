{
 "cells": [
  {
   "cell_type": "code",
   "execution_count": null,
   "metadata": {},
   "outputs": [],
   "source": [
    "from matplotlib import pyplot as plt\n",
    "from fed_algo import FedAvg, FedAdam, FedAdagrad, FedYogi, FedAlgo, ClientParam, Layers\n",
    "import pandas as pd\n",
    "import numpy as np\n",
    "from typing import Tuple, List\n",
    "from utils import read_chunk, select_features_name, read_raw_dataset, train_with_data\n",
    "from model import gru"
   ]
  },
  {
   "attachments": {},
   "cell_type": "markdown",
   "metadata": {},
   "source": [
    "# pokemon\n"
   ]
  },
  {
   "cell_type": "code",
   "execution_count": null,
   "metadata": {},
   "outputs": [],
   "source": [
    "X_raw, y = read_raw_dataset(\"datasets/pokemon.csv\",\n",
    "                            index_col='id',\n",
    "                            target_name='MOS',\n",
    "                            drop=['user_id'])\n",
    "features = select_features_name(X_raw, y)\n",
    "X_test, y_test = read_chunk('pokemon', '-test', features)\n",
    "X_init, y_init = read_chunk('pokemon', '-init', features)\n",
    "result = {\n",
    "    'num_clients': [5.0, 20.0, 50.0, 100.0, 150.0]\n",
    "}"
   ]
  },
  {
   "attachments": {},
   "cell_type": "markdown",
   "metadata": {},
   "source": [
    "init models\n"
   ]
  },
  {
   "cell_type": "code",
   "execution_count": null,
   "metadata": {},
   "outputs": [],
   "source": [
    "central_model = gru()\n",
    "central_model.fit(X_init,\n",
    "                  y_init,\n",
    "                  validation_split=0.05,\n",
    "                  batch_size=128,\n",
    "                  epochs=50,\n",
    "                  shuffle=True)\n",
    "                  \n",
    "init_weights = central_model.get_weights()\n",
    "\n",
    "fed_avg = FedAvg(gru(), init_weights, X_test, y_test)\n"
   ]
  },
  {
   "cell_type": "code",
   "execution_count": null,
   "metadata": {},
   "outputs": [],
   "source": [
    "datasets = [\n",
    "    read_chunk('pokemon', chunk_id + 1, features) for chunk_id in range(5)\n",
    "]\n",
    "X_central = pd.concat([X for X, _ in datasets], axis=0)\n",
    "y_central = pd.concat([y for _, y in datasets], axis=0)"
   ]
  },
  {
   "cell_type": "code",
   "execution_count": null,
   "metadata": {},
   "outputs": [],
   "source": [
    "# centralized training with data of 5 client\n",
    "central_model.fit(X_central,\n",
    "                  y_central,\n",
    "                  validation_split=0.05,\n",
    "                  batch_size=128,\n",
    "                  epochs=50,\n",
    "                  shuffle=True)\n",
    "\n",
    "# federated training\n",
    "local_models = [\n",
    "    train_with_data(gru(), init_weights, dataset) for dataset in datasets\n",
    "]\n",
    "fed_avg.aggregate(local_models)\n",
    "central_mse = central_model.evaluate(X_test, y_test)[0]\n",
    "fed_mse = fed_avg.predict()\n"
   ]
  },
  {
   "cell_type": "code",
   "execution_count": null,
   "metadata": {},
   "outputs": [],
   "source": [
    "result['central'] = [central_mse]\n",
    "result[fed_avg.name()] = [fed_mse]"
   ]
  },
  {
   "cell_type": "code",
   "execution_count": null,
   "metadata": {},
   "outputs": [],
   "source": [
    "num_clients = [20, 50, 100, 150]\n",
    "for i, num_client in enumerate(num_clients):\n",
    "\n",
    "    num_client_this_round = 15 if i == 0 else num_client - num_clients[i - 1]\n",
    "\n",
    "    datasets = [\n",
    "        read_chunk('pokemon',\n",
    "                   chunk_id + 1 + num_client - num_client_this_round, features)\n",
    "        for chunk_id in range(num_client_this_round)\n",
    "    ]\n",
    "    X_central = pd.concat([X_central] + [X for X, _ in datasets], axis=0)\n",
    "    y_central = pd.concat([y_central] + [y for _, y in datasets], axis=0)\n",
    "\n",
    "    # centralized training\n",
    "    central_model.set_weights(init_weights)\n",
    "    central_model.fit(X_central,\n",
    "                      y_central,\n",
    "                      validation_split=0.05,\n",
    "                      batch_size=128,\n",
    "                      epochs=50,\n",
    "                      shuffle=True)\n",
    "\n",
    "    # federated training\n",
    "\n",
    "    local_models = [\n",
    "        train_with_data(gru(), fed_avg.get_weights(), dataset)\n",
    "        for dataset in datasets\n",
    "    ]\n",
    "    fed_avg.aggregate(local_models)\n",
    "\n",
    "    central_mse = central_model.evaluate(X_test, y_test)[0]\n",
    "    fed_mse = fed_avg.predict()\n",
    "\n",
    "    result['central'].append(central_mse)\n",
    "    result[fed_avg.name()].append(fed_mse)"
   ]
  },
  {
   "cell_type": "code",
   "execution_count": null,
   "metadata": {},
   "outputs": [],
   "source": [
    "import json\n",
    "\n",
    "json_result = json.dumps(result, indent=4)\n",
    "print(json_result)"
   ]
  }
 ],
 "metadata": {
  "kernelspec": {
   "display_name": "Python 3",
   "language": "python",
   "name": "python3"
  },
  "language_info": {
   "codemirror_mode": {
    "name": "ipython",
    "version": 3
   },
   "file_extension": ".py",
   "mimetype": "text/x-python",
   "name": "python",
   "nbconvert_exporter": "python",
   "pygments_lexer": "ipython3",
   "version": "3.8.10 (default, Nov 14 2022, 12:59:47) \n[GCC 9.4.0]"
  },
  "orig_nbformat": 4,
  "vscode": {
   "interpreter": {
    "hash": "916dbcbb3f70747c44a77c7bcd40155683ae19c65e1c03b4aa3499c5328201f1"
   }
  }
 },
 "nbformat": 4,
 "nbformat_minor": 2
}
