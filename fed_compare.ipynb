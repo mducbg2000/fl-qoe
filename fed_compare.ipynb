{
 "cells": [
  {
   "cell_type": "code",
   "execution_count": null,
   "metadata": {},
   "outputs": [],
   "source": [
    "from matplotlib import pyplot as plt\n",
    "from fed_algo import FedAvg, FedAdam, FedAdagrad, FedYogi, FedAlgo, ClientParam, Layers\n",
    "import pandas as pd\n",
    "import numpy as np\n",
    "from typing import Tuple, List\n",
    "from utils import read_chunk, select_features_name, read_raw_dataset, train_with_data\n",
    "from model import gru\n",
    "\n",
    "FED_OTP_RESULT = Tuple[Layers, Layers, Layers]"
   ]
  },
  {
   "attachments": {},
   "cell_type": "markdown",
   "metadata": {},
   "source": [
    "# pokemon\n"
   ]
  },
  {
   "cell_type": "code",
   "execution_count": null,
   "metadata": {},
   "outputs": [],
   "source": [
    "X_raw, y = read_raw_dataset(\"datasets/pokemon.csv\",\n",
    "                            index_col='id',\n",
    "                            target_name='MOS',\n",
    "                            drop=['user_id'])\n",
    "features = select_features_name(X_raw, y)\n",
    "X_test, y_test = read_chunk('pokemon', 0, features)\n",
    "result = {\n",
    "    'num_clients': [5.0, 20.0, 50.0, 100.0, 150.0]\n",
    "}"
   ]
  },
  {
   "attachments": {},
   "cell_type": "markdown",
   "metadata": {},
   "source": [
    "## 5 clients\n"
   ]
  },
  {
   "attachments": {},
   "cell_type": "markdown",
   "metadata": {},
   "source": [
    "init models\n"
   ]
  },
  {
   "cell_type": "code",
   "execution_count": null,
   "metadata": {},
   "outputs": [],
   "source": [
    "central_model = gru()\n",
    "init_weights = np.zeros_like(central_model.get_weights())\n",
    "\n",
    "fed_algos: List[FedAlgo] = [\n",
    "    FedAvg(init_weights, X_test, y_test),\n",
    "    FedAdam(init_weights, X_test, y_test),\n",
    "    FedAdagrad(init_weights, X_test, y_test),\n",
    "    FedYogi(init_weights, X_test, y_test)\n",
    "]"
   ]
  },
  {
   "cell_type": "code",
   "execution_count": null,
   "metadata": {},
   "outputs": [],
   "source": [
    "datasets = [\n",
    "    read_chunk('pokemon', chunk_id + 1, features) for chunk_id in range(5)\n",
    "]\n",
    "X_central_raw = pd.concat([X for X, _ in datasets], axis=0)\n",
    "y_central = pd.concat([y for _, y in datasets], axis=0)\n",
    "X_central = X_central_raw[features]"
   ]
  },
  {
   "cell_type": "code",
   "execution_count": null,
   "metadata": {},
   "outputs": [],
   "source": [
    "# centralized training with data of 5 client\n",
    "central_model.fit(X_central, y_central)\n",
    "\n",
    "# federated training\n",
    "local_models = [\n",
    "    train_with_data(gru(), init_weights, dataset) for dataset in datasets\n",
    "]\n",
    "for algo in fed_algos:\n",
    "    algo.aggregate(local_models)\n",
    "central_mse = central_model.evaluate(X_test, y_test)[0]\n",
    "fed_mses = [algo.predict() for algo in fed_algos]\n"
   ]
  },
  {
   "cell_type": "code",
   "execution_count": null,
   "metadata": {},
   "outputs": [],
   "source": [
    "result['central'] = [central_mse]\n",
    "for algo, mse in zip(fed_algos, fed_mses):\n",
    "    result[algo.name()] = [mse]"
   ]
  },
  {
   "cell_type": "code",
   "execution_count": null,
   "metadata": {},
   "outputs": [],
   "source": [
    "num_clients = [20, 50, 100, 150]\n",
    "for i, num_client in enumerate(num_clients):\n",
    "\n",
    "    num_client_this_round = 15 if i == 0 else num_client - num_clients[i - 1]\n",
    "\n",
    "    datasets = [\n",
    "        read_chunk('pokemon', chunk_id + 1 + num_client - num_client_this_round,\n",
    "                   features) for chunk_id in range(num_client_this_round)\n",
    "    ]\n",
    "    X_central_raw = pd.concat([X_central_raw] + [X for X, _ in datasets],\n",
    "                              axis=0)\n",
    "    y_central = pd.concat([y_central] + [y for _, y in datasets], axis=0)\n",
    "    X_central = X_central_raw[features]\n",
    "    # centralized training\n",
    "    central_model.set_weights(init_weights)\n",
    "    central_model.fit(X_central, y_central)\n",
    "\n",
    "    # federated training\n",
    "    for algo in fed_algos:\n",
    "        local_models = [\n",
    "            train_with_data(gru(), algo.get_weights(), dataset)\n",
    "            for dataset in datasets\n",
    "        ]\n",
    "        algo.aggregate(local_models)\n",
    "\n",
    "    central_mse = central_model.evaluate(X_test, y_test)[0]\n",
    "    fed_mses = [algo.predict() for algo in fed_algos]\n",
    "\n",
    "    result['central'].append(central_mse)\n",
    "    for algo, mse in zip(fed_algos, fed_mses):\n",
    "        result[algo.name()].append(mse)"
   ]
  },
  {
   "cell_type": "code",
   "execution_count": null,
   "metadata": {},
   "outputs": [],
   "source": [
    "import json\n",
    "\n",
    "json_result = json.dumps(result, indent=4)\n",
    "print(json_result)"
   ]
  }
 ],
 "metadata": {
  "kernelspec": {
   "display_name": "Python 3",
   "language": "python",
   "name": "python3"
  },
  "language_info": {
   "codemirror_mode": {
    "name": "ipython",
    "version": 3
   },
   "file_extension": ".py",
   "mimetype": "text/x-python",
   "name": "python",
   "nbconvert_exporter": "python",
   "pygments_lexer": "ipython3",
   "version": "3.8.10 (default, Nov 14 2022, 12:59:47) \n[GCC 9.4.0]"
  },
  "orig_nbformat": 4,
  "vscode": {
   "interpreter": {
    "hash": "916dbcbb3f70747c44a77c7bcd40155683ae19c65e1c03b4aa3499c5328201f1"
   }
  }
 },
 "nbformat": 4,
 "nbformat_minor": 2
}
