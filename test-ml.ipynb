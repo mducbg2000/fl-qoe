{
 "cells": [
  {
   "cell_type": "markdown",
   "metadata": {},
   "source": [
    "# Prepare data"
   ]
  },
  {
   "cell_type": "code",
   "execution_count": 1,
   "metadata": {},
   "outputs": [],
   "source": [
    "import pandas as pd\n",
    "from sklearn.feature_selection import SelectKBest, f_regression\n",
    "from sklearn.model_selection import train_test_split\n",
    "from matplotlib import pyplot as plt "
   ]
  },
  {
   "cell_type": "markdown",
   "metadata": {},
   "source": [
    "Read raw data from csv"
   ]
  },
  {
   "cell_type": "code",
   "execution_count": null,
   "metadata": {},
   "outputs": [],
   "source": [
    "raw_dataset = pd.read_csv('datasets/vMOS.csv', index_col='ID')\n",
    "X_raw = raw_dataset.drop(\"VMOS\", 1)\n",
    "y = raw_dataset['VMOS']"
   ]
  },
  {
   "cell_type": "markdown",
   "metadata": {},
   "source": [
    "Select features according to the k highest scores. </br>\n",
    "The **f_regression** score function will rank features in the same order if all the features are positively correlated with the target."
   ]
  },
  {
   "cell_type": "code",
   "execution_count": 3,
   "metadata": {},
   "outputs": [],
   "source": [
    "def select_features(X: pd.DataFrame, y: pd.Series, k=10):\n",
    "\tselector = SelectKBest(score_func=f_regression, k=k)\n",
    "\tselector.fit(X, y)\n",
    "\treturn X[X.columns[selector.get_support(indices=True)]], selector"
   ]
  },
  {
   "cell_type": "markdown",
   "metadata": {},
   "source": [
    "Split dataset into train and test subsets"
   ]
  },
  {
   "cell_type": "code",
   "execution_count": 4,
   "metadata": {},
   "outputs": [],
   "source": [
    "X, fs = select_features(X_raw, y)\n",
    "X_train, X_test, y_train, y_test = train_test_split(X, y, test_size=0.2, random_state=2)"
   ]
  },
  {
   "cell_type": "markdown",
   "metadata": {},
   "source": [
    "Display feature's scores"
   ]
  },
  {
   "cell_type": "code",
   "execution_count": 5,
   "metadata": {},
   "outputs": [
    {
     "data": {
      "image/png": "[encoded data removed]",
      "text/plain": [
       "<Figure size 640x480 with 1 Axes>"
      ]
     },
     "metadata": {},
     "output_type": "display_data"
    }
   ],
   "source": [
    "plt.bar([i for i in range(len(fs.scores_))], fs.scores_)\n",
    "plt.show()"
   ]
  },
  {
   "cell_type": "markdown",
   "metadata": {},
   "source": [
    "# Machine Learning"
   ]
  },
  {
   "cell_type": "code",
   "execution_count": 6,
   "metadata": {},
   "outputs": [],
   "source": [
    "from sklearn.linear_model import LinearRegression\n",
    "from sklearn.svm import SVR\n",
    "from sklearn.ensemble import RandomForestRegressor, BaggingRegressor, AdaBoostRegressor, GradientBoostingRegressor\n",
    "from sklearn.metrics import mean_squared_error"
   ]
  },
  {
   "cell_type": "markdown",
   "metadata": {},
   "source": [
    "Declare some machine learning models with default params"
   ]
  },
  {
   "cell_type": "code",
   "execution_count": 7,
   "metadata": {},
   "outputs": [],
   "source": [
    "linear = LinearRegression()\n",
    "svr = SVR()\n",
    "random_forest = RandomForestRegressor()\n",
    "bagging = BaggingRegressor()\n",
    "ada_boost = AdaBoostRegressor()\n",
    "gradient_boost = GradientBoostingRegressor()\n",
    "models = [('linear', linear), ('svr', svr), ('random_forest',\n",
    "                                                      random_forest), ('bagging', bagging), ('ada_boost', ada_boost), ('gradient_boost', gradient_boost)]\n"
   ]
  },
  {
   "cell_type": "markdown",
   "metadata": {},
   "source": [
    "Training all models"
   ]
  },
  {
   "cell_type": "code",
   "execution_count": 8,
   "metadata": {},
   "outputs": [],
   "source": [
    "for name, model in models:\n",
    "    model.fit(X_train, y_train)"
   ]
  },
  {
   "cell_type": "markdown",
   "metadata": {},
   "source": [
    "Predict and compute **mean_squared_error** of each model"
   ]
  },
  {
   "cell_type": "code",
   "execution_count": 9,
   "metadata": {},
   "outputs": [],
   "source": [
    "preds = list(map(lambda model : model[1].predict(X_test), models))\n",
    "ml_mses = list(map(lambda model, pred : (model[0], mean_squared_error(y_test, pred)), models, preds))"
   ]
  },
  {
   "cell_type": "markdown",
   "metadata": {},
   "source": [
    "# LSTM"
   ]
  },
  {
   "cell_type": "code",
   "execution_count": null,
   "metadata": {},
   "outputs": [],
   "source": [
    "from keras.models import Sequential\n",
    "from keras.layers import Dense, LSTM, Dropout\n",
    "from keras.metrics import MeanSquaredError"
   ]
  },
  {
   "cell_type": "markdown",
   "metadata": {},
   "source": [
    "Build **LSTM** model"
   ]
  },
  {
   "cell_type": "code",
   "execution_count": 11,
   "metadata": {},
   "outputs": [],
   "source": [
    "def build_model(number_of_feature):\n",
    "    model = Sequential()\n",
    "    model.add(LSTM(128, return_sequences=False,\n",
    "              input_shape=(number_of_feature, 1)))\n",
    "    model.add(Dense(128, activation='relu'))\n",
    "    model.add(Dropout(0.2))\n",
    "    model.add(Dense(64))\n",
    "    model.add(Dropout(0.2))\n",
    "    model.add(Dense(32))\n",
    "    model.add(Dropout(0.2))\n",
    "    # model.add(LSTM(50, return_sequences=False))\n",
    "    model.add(Dense(1, activation='linear'))\n",
    "\n",
    "    model.compile(optimizer='adam',\n",
    "                  loss='mse', metrics=[MeanSquaredError()])\n",
    "    return model"
   ]
  },
  {
   "cell_type": "code",
   "execution_count": null,
   "metadata": {},
   "outputs": [],
   "source": [
    "lstm = build_model(10)"
   ]
  },
  {
   "cell_type": "markdown",
   "metadata": {},
   "source": [
    "Training model"
   ]
  },
  {
   "cell_type": "code",
   "execution_count": 13,
   "metadata": {},
   "outputs": [
    {
     "name": "stdout",
     "output_type": "stream",
     "text": [
      "Epoch 1/100\n"
     ]
    },
    {
     "name": "stderr",
     "output_type": "stream",
     "text": [
      "2022-11-16 23:59:07.151051: I tensorflow/stream_executor/cuda/cuda_dnn.cc:384] Loaded cuDNN version 8100\n",
      "2022-11-16 23:59:08.190457: I tensorflow/stream_executor/cuda/cuda_blas.cc:1614] TensorFloat-32 will be used for the matrix multiplication. This will only be logged once.\n"
     ]
    },
    {
     "name": "stdout",
     "output_type": "stream",
     "text": [
      "531/531 [==============================] - 8s 9ms/step - loss: 0.4804 - mean_squared_error: 0.4804 - val_loss: 0.0061 - val_mean_squared_error: 0.0061\n",
      "Epoch 2/100\n",
      "531/531 [==============================] - 4s 7ms/step - loss: 0.1910 - mean_squared_error: 0.1910 - val_loss: 0.4278 - val_mean_squared_error: 0.4278\n",
      "Epoch 3/100\n",
      "531/531 [==============================] - 4s 7ms/step - loss: 0.1564 - mean_squared_error: 0.1564 - val_loss: 0.1170 - val_mean_squared_error: 0.1170\n",
      "Epoch 4/100\n",
      "531/531 [==============================] - 4s 7ms/step - loss: 0.1357 - mean_squared_error: 0.1357 - val_loss: 0.0051 - val_mean_squared_error: 0.0051\n",
      "Epoch 5/100\n",
      "531/531 [==============================] - 4s 7ms/step - loss: 0.1172 - mean_squared_error: 0.1172 - val_loss: 0.0506 - val_mean_squared_error: 0.0506\n",
      "Epoch 6/100\n",
      "531/531 [==============================] - 4s 7ms/step - loss: 0.1315 - mean_squared_error: 0.1315 - val_loss: 0.0302 - val_mean_squared_error: 0.0302\n",
      "Epoch 7/100\n",
      "531/531 [==============================] - 4s 7ms/step - loss: 0.0974 - mean_squared_error: 0.0974 - val_loss: 0.0091 - val_mean_squared_error: 0.0091\n",
      "Epoch 8/100\n",
      "531/531 [==============================] - 3s 6ms/step - loss: 0.0842 - mean_squared_error: 0.0842 - val_loss: 0.0290 - val_mean_squared_error: 0.0290\n",
      "Epoch 9/100\n",
      "531/531 [==============================] - 4s 7ms/step - loss: 0.0783 - mean_squared_error: 0.0783 - val_loss: 0.0148 - val_mean_squared_error: 0.0148\n",
      "Epoch 10/100\n",
      "531/531 [==============================] - 4s 8ms/step - loss: 0.0691 - mean_squared_error: 0.0691 - val_loss: 0.0149 - val_mean_squared_error: 0.0149\n",
      "Epoch 11/100\n",
      "531/531 [==============================] - 4s 7ms/step - loss: 0.0618 - mean_squared_error: 0.0618 - val_loss: 0.0015 - val_mean_squared_error: 0.0015\n",
      "Epoch 12/100\n",
      "531/531 [==============================] - 3s 6ms/step - loss: 0.0547 - mean_squared_error: 0.0547 - val_loss: 0.0086 - val_mean_squared_error: 0.0086\n",
      "Epoch 13/100\n",
      "531/531 [==============================] - 3s 7ms/step - loss: 0.0489 - mean_squared_error: 0.0489 - val_loss: 0.0045 - val_mean_squared_error: 0.0045\n",
      "Epoch 14/100\n",
      "531/531 [==============================] - 3s 6ms/step - loss: 0.0444 - mean_squared_error: 0.0444 - val_loss: 0.0020 - val_mean_squared_error: 0.0020\n",
      "Epoch 15/100\n",
      "531/531 [==============================] - 3s 6ms/step - loss: 0.0395 - mean_squared_error: 0.0395 - val_loss: 0.0172 - val_mean_squared_error: 0.0172\n",
      "Epoch 16/100\n",
      "531/531 [==============================] - 4s 7ms/step - loss: 0.0344 - mean_squared_error: 0.0344 - val_loss: 0.0220 - val_mean_squared_error: 0.0220\n",
      "Epoch 17/100\n",
      "531/531 [==============================] - 4s 7ms/step - loss: 0.0311 - mean_squared_error: 0.0311 - val_loss: 0.0048 - val_mean_squared_error: 0.0048\n",
      "Epoch 18/100\n",
      "531/531 [==============================] - 3s 6ms/step - loss: 0.0282 - mean_squared_error: 0.0282 - val_loss: 0.0018 - val_mean_squared_error: 0.0018\n",
      "Epoch 19/100\n",
      "531/531 [==============================] - 3s 6ms/step - loss: 0.0248 - mean_squared_error: 0.0248 - val_loss: 0.0144 - val_mean_squared_error: 0.0144\n",
      "Epoch 20/100\n",
      "531/531 [==============================] - 4s 7ms/step - loss: 0.0227 - mean_squared_error: 0.0227 - val_loss: 0.0036 - val_mean_squared_error: 0.0036\n",
      "Epoch 21/100\n",
      "531/531 [==============================] - 4s 7ms/step - loss: 0.0206 - mean_squared_error: 0.0206 - val_loss: 0.0034 - val_mean_squared_error: 0.0034\n",
      "Epoch 22/100\n",
      "531/531 [==============================] - 4s 7ms/step - loss: 0.0186 - mean_squared_error: 0.0186 - val_loss: 0.0077 - val_mean_squared_error: 0.0077\n",
      "Epoch 23/100\n",
      "531/531 [==============================] - 3s 6ms/step - loss: 0.0175 - mean_squared_error: 0.0175 - val_loss: 0.0030 - val_mean_squared_error: 0.0030\n",
      "Epoch 24/100\n",
      "531/531 [==============================] - 4s 7ms/step - loss: 0.0147 - mean_squared_error: 0.0147 - val_loss: 0.0021 - val_mean_squared_error: 0.0021\n",
      "Epoch 25/100\n",
      "531/531 [==============================] - 4s 7ms/step - loss: 0.0136 - mean_squared_error: 0.0136 - val_loss: 7.4699e-04 - val_mean_squared_error: 7.4699e-04\n",
      "Epoch 26/100\n",
      "531/531 [==============================] - 4s 7ms/step - loss: 0.0140 - mean_squared_error: 0.0140 - val_loss: 0.0032 - val_mean_squared_error: 0.0032\n",
      "Epoch 27/100\n",
      "531/531 [==============================] - 4s 7ms/step - loss: 0.0133 - mean_squared_error: 0.0133 - val_loss: 0.0025 - val_mean_squared_error: 0.0025\n",
      "Epoch 28/100\n",
      "531/531 [==============================] - 4s 7ms/step - loss: 0.0133 - mean_squared_error: 0.0133 - val_loss: 0.0016 - val_mean_squared_error: 0.0016\n",
      "Epoch 29/100\n",
      "531/531 [==============================] - 4s 7ms/step - loss: 0.0130 - mean_squared_error: 0.0130 - val_loss: 0.0054 - val_mean_squared_error: 0.0054\n",
      "Epoch 30/100\n",
      "531/531 [==============================] - 4s 7ms/step - loss: 0.0129 - mean_squared_error: 0.0129 - val_loss: 0.0044 - val_mean_squared_error: 0.0044\n",
      "Epoch 31/100\n",
      "531/531 [==============================] - 4s 7ms/step - loss: 0.0125 - mean_squared_error: 0.0125 - val_loss: 0.0017 - val_mean_squared_error: 0.0017\n",
      "Epoch 32/100\n",
      "531/531 [==============================] - 4s 7ms/step - loss: 0.0128 - mean_squared_error: 0.0128 - val_loss: 0.0026 - val_mean_squared_error: 0.0026\n",
      "Epoch 33/100\n",
      "531/531 [==============================] - 4s 7ms/step - loss: 0.0120 - mean_squared_error: 0.0120 - val_loss: 3.9917e-04 - val_mean_squared_error: 3.9917e-04\n",
      "Epoch 34/100\n",
      "531/531 [==============================] - 4s 8ms/step - loss: 0.0118 - mean_squared_error: 0.0118 - val_loss: 0.0215 - val_mean_squared_error: 0.0215\n",
      "Epoch 35/100\n",
      "531/531 [==============================] - 4s 8ms/step - loss: 0.0141 - mean_squared_error: 0.0141 - val_loss: 0.0033 - val_mean_squared_error: 0.0033\n",
      "Epoch 36/100\n",
      "531/531 [==============================] - 4s 8ms/step - loss: 0.0117 - mean_squared_error: 0.0117 - val_loss: 9.7947e-04 - val_mean_squared_error: 9.7947e-04\n",
      "Epoch 37/100\n",
      "531/531 [==============================] - 5s 9ms/step - loss: 0.0112 - mean_squared_error: 0.0112 - val_loss: 4.9477e-04 - val_mean_squared_error: 4.9477e-04\n",
      "Epoch 38/100\n",
      "531/531 [==============================] - 5s 9ms/step - loss: 0.0108 - mean_squared_error: 0.0108 - val_loss: 9.9548e-04 - val_mean_squared_error: 9.9548e-04\n",
      "Epoch 39/100\n",
      "531/531 [==============================] - 5s 8ms/step - loss: 0.0107 - mean_squared_error: 0.0107 - val_loss: 0.0033 - val_mean_squared_error: 0.0033\n",
      "Epoch 40/100\n",
      "531/531 [==============================] - 4s 8ms/step - loss: 0.0101 - mean_squared_error: 0.0101 - val_loss: 0.0034 - val_mean_squared_error: 0.0034\n",
      "Epoch 41/100\n",
      "531/531 [==============================] - 4s 8ms/step - loss: 0.0110 - mean_squared_error: 0.0110 - val_loss: 5.3323e-04 - val_mean_squared_error: 5.3323e-04\n",
      "Epoch 42/100\n",
      "531/531 [==============================] - 4s 8ms/step - loss: 0.0114 - mean_squared_error: 0.0114 - val_loss: 0.0023 - val_mean_squared_error: 0.0023\n",
      "Epoch 43/100\n",
      "531/531 [==============================] - 4s 8ms/step - loss: 0.0103 - mean_squared_error: 0.0103 - val_loss: 8.6941e-04 - val_mean_squared_error: 8.6941e-04\n",
      "Epoch 44/100\n",
      "531/531 [==============================] - 4s 7ms/step - loss: 0.0103 - mean_squared_error: 0.0103 - val_loss: 0.0045 - val_mean_squared_error: 0.0045\n",
      "Epoch 45/100\n",
      "531/531 [==============================] - 4s 8ms/step - loss: 0.0109 - mean_squared_error: 0.0109 - val_loss: 0.0011 - val_mean_squared_error: 0.0011\n",
      "Epoch 46/100\n",
      "531/531 [==============================] - 4s 7ms/step - loss: 0.0108 - mean_squared_error: 0.0108 - val_loss: 0.0017 - val_mean_squared_error: 0.0017\n",
      "Epoch 47/100\n",
      "531/531 [==============================] - 4s 7ms/step - loss: 0.0109 - mean_squared_error: 0.0109 - val_loss: 0.0022 - val_mean_squared_error: 0.0022\n",
      "Epoch 48/100\n",
      "531/531 [==============================] - 4s 7ms/step - loss: 0.0106 - mean_squared_error: 0.0106 - val_loss: 0.0120 - val_mean_squared_error: 0.0120\n",
      "Epoch 49/100\n",
      "531/531 [==============================] - 4s 7ms/step - loss: 0.0108 - mean_squared_error: 0.0108 - val_loss: 0.0021 - val_mean_squared_error: 0.0021\n",
      "Epoch 50/100\n",
      "531/531 [==============================] - 4s 7ms/step - loss: 0.0103 - mean_squared_error: 0.0103 - val_loss: 0.0017 - val_mean_squared_error: 0.0017\n",
      "Epoch 51/100\n",
      "531/531 [==============================] - 4s 7ms/step - loss: 0.0109 - mean_squared_error: 0.0109 - val_loss: 0.0012 - val_mean_squared_error: 0.0012\n",
      "Epoch 52/100\n",
      "531/531 [==============================] - 4s 7ms/step - loss: 0.0099 - mean_squared_error: 0.0099 - val_loss: 6.0155e-04 - val_mean_squared_error: 6.0155e-04\n",
      "Epoch 53/100\n",
      "531/531 [==============================] - 4s 7ms/step - loss: 0.0113 - mean_squared_error: 0.0113 - val_loss: 0.0042 - val_mean_squared_error: 0.0042\n",
      "Epoch 54/100\n",
      "531/531 [==============================] - 3s 6ms/step - loss: 0.0102 - mean_squared_error: 0.0102 - val_loss: 0.0013 - val_mean_squared_error: 0.0013\n",
      "Epoch 55/100\n",
      "531/531 [==============================] - 3s 7ms/step - loss: 0.0105 - mean_squared_error: 0.0105 - val_loss: 7.1312e-04 - val_mean_squared_error: 7.1312e-04\n",
      "Epoch 56/100\n",
      "531/531 [==============================] - 3s 7ms/step - loss: 0.0099 - mean_squared_error: 0.0099 - val_loss: 0.0015 - val_mean_squared_error: 0.0015\n",
      "Epoch 57/100\n",
      "531/531 [==============================] - 4s 7ms/step - loss: 0.0110 - mean_squared_error: 0.0110 - val_loss: 0.0017 - val_mean_squared_error: 0.0017\n",
      "Epoch 58/100\n",
      "531/531 [==============================] - 4s 7ms/step - loss: 0.0101 - mean_squared_error: 0.0101 - val_loss: 3.7294e-04 - val_mean_squared_error: 3.7294e-04\n",
      "Epoch 59/100\n",
      "531/531 [==============================] - 4s 8ms/step - loss: 0.0103 - mean_squared_error: 0.0103 - val_loss: 0.0043 - val_mean_squared_error: 0.0043\n",
      "Epoch 60/100\n",
      "531/531 [==============================] - 4s 8ms/step - loss: 0.0107 - mean_squared_error: 0.0107 - val_loss: 0.0017 - val_mean_squared_error: 0.0017\n",
      "Epoch 61/100\n",
      "531/531 [==============================] - 4s 7ms/step - loss: 0.0108 - mean_squared_error: 0.0108 - val_loss: 2.9916e-04 - val_mean_squared_error: 2.9916e-04\n",
      "Epoch 62/100\n",
      "531/531 [==============================] - 4s 8ms/step - loss: 0.0105 - mean_squared_error: 0.0105 - val_loss: 8.9571e-04 - val_mean_squared_error: 8.9571e-04\n",
      "Epoch 63/100\n",
      "531/531 [==============================] - 4s 7ms/step - loss: 0.0102 - mean_squared_error: 0.0102 - val_loss: 6.7153e-04 - val_mean_squared_error: 6.7153e-04\n",
      "Epoch 64/100\n",
      "531/531 [==============================] - 4s 8ms/step - loss: 0.0100 - mean_squared_error: 0.0100 - val_loss: 0.0028 - val_mean_squared_error: 0.0028\n",
      "Epoch 65/100\n",
      "531/531 [==============================] - 4s 7ms/step - loss: 0.0107 - mean_squared_error: 0.0107 - val_loss: 0.0024 - val_mean_squared_error: 0.0024\n",
      "Epoch 66/100\n",
      "531/531 [==============================] - 4s 7ms/step - loss: 0.0112 - mean_squared_error: 0.0112 - val_loss: 7.3079e-04 - val_mean_squared_error: 7.3079e-04\n",
      "Epoch 67/100\n",
      "531/531 [==============================] - 4s 7ms/step - loss: 0.0100 - mean_squared_error: 0.0100 - val_loss: 8.6292e-04 - val_mean_squared_error: 8.6292e-04\n",
      "Epoch 68/100\n",
      "531/531 [==============================] - 4s 7ms/step - loss: 0.0099 - mean_squared_error: 0.0099 - val_loss: 2.5885e-04 - val_mean_squared_error: 2.5885e-04\n",
      "Epoch 69/100\n",
      "531/531 [==============================] - 4s 7ms/step - loss: 0.0093 - mean_squared_error: 0.0093 - val_loss: 7.4584e-04 - val_mean_squared_error: 7.4584e-04\n",
      "Epoch 70/100\n",
      "531/531 [==============================] - 4s 7ms/step - loss: 0.0101 - mean_squared_error: 0.0101 - val_loss: 8.6878e-04 - val_mean_squared_error: 8.6878e-04\n",
      "Epoch 71/100\n",
      "531/531 [==============================] - 4s 8ms/step - loss: 0.0098 - mean_squared_error: 0.0098 - val_loss: 0.0016 - val_mean_squared_error: 0.0016\n",
      "Epoch 72/100\n",
      "531/531 [==============================] - 4s 7ms/step - loss: 0.0097 - mean_squared_error: 0.0097 - val_loss: 9.2345e-04 - val_mean_squared_error: 9.2345e-04\n",
      "Epoch 73/100\n",
      "531/531 [==============================] - 4s 7ms/step - loss: 0.0100 - mean_squared_error: 0.0100 - val_loss: 0.0011 - val_mean_squared_error: 0.0011\n",
      "Epoch 74/100\n",
      "531/531 [==============================] - 4s 7ms/step - loss: 0.0099 - mean_squared_error: 0.0099 - val_loss: 9.3471e-04 - val_mean_squared_error: 9.3471e-04\n",
      "Epoch 75/100\n",
      "531/531 [==============================] - 4s 7ms/step - loss: 0.0100 - mean_squared_error: 0.0100 - val_loss: 0.0035 - val_mean_squared_error: 0.0035\n",
      "Epoch 76/100\n",
      "531/531 [==============================] - 4s 7ms/step - loss: 0.0096 - mean_squared_error: 0.0096 - val_loss: 7.6357e-04 - val_mean_squared_error: 7.6357e-04\n",
      "Epoch 77/100\n",
      "531/531 [==============================] - 4s 7ms/step - loss: 0.0094 - mean_squared_error: 0.0094 - val_loss: 0.0029 - val_mean_squared_error: 0.0029\n",
      "Epoch 78/100\n",
      "531/531 [==============================] - 4s 7ms/step - loss: 0.0095 - mean_squared_error: 0.0095 - val_loss: 8.3359e-04 - val_mean_squared_error: 8.3359e-04\n",
      "Epoch 79/100\n",
      "531/531 [==============================] - 4s 7ms/step - loss: 0.0095 - mean_squared_error: 0.0095 - val_loss: 0.0019 - val_mean_squared_error: 0.0019\n",
      "Epoch 80/100\n",
      "531/531 [==============================] - 4s 7ms/step - loss: 0.0094 - mean_squared_error: 0.0094 - val_loss: 7.4039e-04 - val_mean_squared_error: 7.4039e-04\n",
      "Epoch 81/100\n",
      "531/531 [==============================] - 4s 7ms/step - loss: 0.0092 - mean_squared_error: 0.0092 - val_loss: 0.0014 - val_mean_squared_error: 0.0014\n",
      "Epoch 82/100\n",
      "531/531 [==============================] - 4s 7ms/step - loss: 0.0092 - mean_squared_error: 0.0092 - val_loss: 3.7681e-04 - val_mean_squared_error: 3.7681e-04\n",
      "Epoch 83/100\n",
      "531/531 [==============================] - 4s 7ms/step - loss: 0.0096 - mean_squared_error: 0.0096 - val_loss: 0.0012 - val_mean_squared_error: 0.0012\n",
      "Epoch 84/100\n",
      "531/531 [==============================] - 4s 7ms/step - loss: 0.0090 - mean_squared_error: 0.0090 - val_loss: 7.6119e-04 - val_mean_squared_error: 7.6119e-04\n",
      "Epoch 85/100\n",
      "531/531 [==============================] - 4s 7ms/step - loss: 0.0098 - mean_squared_error: 0.0098 - val_loss: 0.0015 - val_mean_squared_error: 0.0015\n",
      "Epoch 86/100\n",
      "531/531 [==============================] - 4s 7ms/step - loss: 0.0098 - mean_squared_error: 0.0098 - val_loss: 3.0425e-04 - val_mean_squared_error: 3.0425e-04\n",
      "Epoch 87/100\n",
      "531/531 [==============================] - 3s 7ms/step - loss: 0.0089 - mean_squared_error: 0.0089 - val_loss: 0.0013 - val_mean_squared_error: 0.0013\n",
      "Epoch 88/100\n",
      "531/531 [==============================] - 4s 7ms/step - loss: 0.0098 - mean_squared_error: 0.0098 - val_loss: 0.0013 - val_mean_squared_error: 0.0013\n",
      "Epoch 89/100\n",
      "531/531 [==============================] - 4s 7ms/step - loss: 0.0087 - mean_squared_error: 0.0087 - val_loss: 0.0011 - val_mean_squared_error: 0.0011\n",
      "Epoch 90/100\n",
      "531/531 [==============================] - 4s 7ms/step - loss: 0.0093 - mean_squared_error: 0.0093 - val_loss: 0.0011 - val_mean_squared_error: 0.0011\n",
      "Epoch 91/100\n",
      "531/531 [==============================] - 4s 7ms/step - loss: 0.0092 - mean_squared_error: 0.0092 - val_loss: 7.6158e-04 - val_mean_squared_error: 7.6158e-04\n",
      "Epoch 92/100\n",
      "531/531 [==============================] - 4s 7ms/step - loss: 0.0090 - mean_squared_error: 0.0090 - val_loss: 0.0026 - val_mean_squared_error: 0.0026\n",
      "Epoch 93/100\n",
      "531/531 [==============================] - 4s 7ms/step - loss: 0.0086 - mean_squared_error: 0.0086 - val_loss: 5.7312e-04 - val_mean_squared_error: 5.7312e-04\n",
      "Epoch 94/100\n",
      "531/531 [==============================] - 4s 7ms/step - loss: 0.0089 - mean_squared_error: 0.0089 - val_loss: 0.0021 - val_mean_squared_error: 0.0021\n",
      "Epoch 95/100\n",
      "531/531 [==============================] - 4s 7ms/step - loss: 0.0089 - mean_squared_error: 0.0089 - val_loss: 0.0026 - val_mean_squared_error: 0.0026\n",
      "Epoch 96/100\n",
      "531/531 [==============================] - 4s 7ms/step - loss: 0.0092 - mean_squared_error: 0.0092 - val_loss: 0.0014 - val_mean_squared_error: 0.0014\n",
      "Epoch 97/100\n",
      "531/531 [==============================] - 4s 7ms/step - loss: 0.0085 - mean_squared_error: 0.0085 - val_loss: 4.9066e-04 - val_mean_squared_error: 4.9066e-04\n",
      "Epoch 98/100\n",
      "531/531 [==============================] - 4s 7ms/step - loss: 0.0085 - mean_squared_error: 0.0085 - val_loss: 3.9697e-04 - val_mean_squared_error: 3.9697e-04\n",
      "Epoch 99/100\n",
      "531/531 [==============================] - 4s 7ms/step - loss: 0.0086 - mean_squared_error: 0.0086 - val_loss: 3.5018e-04 - val_mean_squared_error: 3.5018e-04\n",
      "Epoch 100/100\n",
      "531/531 [==============================] - 4s 7ms/step - loss: 0.0087 - mean_squared_error: 0.0087 - val_loss: 5.7974e-04 - val_mean_squared_error: 5.7974e-04\n"
     ]
    },
    {
     "data": {
      "text/plain": [
       "<keras.callbacks.History at 0x7faf940a9fd0>"
      ]
     },
     "execution_count": 13,
     "metadata": {},
     "output_type": "execute_result"
    }
   ],
   "source": [
    "lstm.fit(X_train, y_train, validation_split=0.05,\n",
    "         batch_size=128, epochs=100, shuffle=True)\n"
   ]
  },
  {
   "cell_type": "markdown",
   "metadata": {},
   "source": [
    "Predict and compute **MSE**"
   ]
  },
  {
   "cell_type": "code",
   "execution_count": 14,
   "metadata": {},
   "outputs": [
    {
     "name": "stdout",
     "output_type": "stream",
     "text": [
      "558/558 [==============================] - 2s 2ms/step\n"
     ]
    }
   ],
   "source": [
    "lstm_pred = lstm.predict(X_test)\n",
    "lstm_mse = mean_squared_error(y_test, lstm_pred)\n",
    "# lstm_pred"
   ]
  },
  {
   "cell_type": "markdown",
   "metadata": {},
   "source": [
    "Print all MSE"
   ]
  },
  {
   "cell_type": "code",
   "execution_count": 15,
   "metadata": {},
   "outputs": [
    {
     "name": "stdout",
     "output_type": "stream",
     "text": [
      "linear:  0.003930137239138814\n",
      "svr:  0.006164690311306513\n",
      "random_forest:  6.1007789851013655e-05\n",
      "bagging:  7.195071132519344e-05\n",
      "ada_boost:  0.013671146902181793\n",
      "gradient_boost:  0.00012842182785427437\n",
      "lstm:  0.0005318632382064247\n"
     ]
    }
   ],
   "source": [
    "mses = ml_mses + [('lstm', lstm_mse)]\n",
    "for name, mse in mses:\n",
    "    print(name + \": \", mse)"
   ]
  }
 ],
 "metadata": {
  "kernelspec": {
   "display_name": "Python 3.9.13 ('base')",
   "language": "python",
   "name": "python3"
  },
  "language_info": {
   "codemirror_mode": {
    "name": "ipython",
    "version": 3
   },
   "file_extension": ".py",
   "mimetype": "text/x-python",
   "name": "python",
   "nbconvert_exporter": "python",
   "pygments_lexer": "ipython3",
   "version": "3.9.13"
  },
  "orig_nbformat": 4,
  "vscode": {
   "interpreter": {
    "hash": "c3f75fe3956df6c2bfc3d37c9f0dc25b716700643cdcf1e3b94b6b4d09c5a4c3"
   }
  }
 },
 "nbformat": 4,
 "nbformat_minor": 2
}
