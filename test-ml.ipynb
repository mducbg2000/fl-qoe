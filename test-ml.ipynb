{
 "cells": [
  {
   "cell_type": "markdown",
   "metadata": {},
   "source": [
    "# Prepare data"
   ]
  },
  {
   "cell_type": "code",
   "execution_count": 1,
   "metadata": {},
   "outputs": [],
   "source": [
    "import pandas as pd\n",
    "from sklearn.feature_selection import SelectKBest, f_regression\n",
    "from sklearn.model_selection import train_test_split\n",
    "from matplotlib import pyplot as plt "
   ]
  },
  {
   "cell_type": "markdown",
   "metadata": {},
   "source": [
    "Read raw data from csv"
   ]
  },
  {
   "cell_type": "code",
   "execution_count": 12,
   "metadata": {},
   "outputs": [
    {
     "name": "stderr",
     "output_type": "stream",
     "text": [
      "/tmp/ipykernel_2208/2969924520.py:2: FutureWarning: In a future version of pandas all arguments of DataFrame.drop except for the argument 'labels' will be keyword-only.\n",
      "  X_raw = raw_dataset.drop([\"MOS\", \"user_id\"], 1)\n"
     ]
    }
   ],
   "source": [
    "raw_dataset = pd.read_csv('datasets/pokemon.csv', index_col='id')\n",
    "X_raw = raw_dataset.drop([\"MOS\", \"user_id\"], 1)\n",
    "y = raw_dataset['MOS']"
   ]
  },
  {
   "cell_type": "markdown",
   "metadata": {},
   "source": [
    "Select features according to the k highest scores. </br>\n",
    "The **f_regression** score function will rank features in the same order if all the features are positively correlated with the target."
   ]
  },
  {
   "cell_type": "code",
   "execution_count": 3,
   "metadata": {},
   "outputs": [],
   "source": [
    "def select_features(X: pd.DataFrame, y: pd.Series, k=10):\n",
    "\tselector = SelectKBest(score_func=f_regression, k=k)\n",
    "\tselector.fit(X, y)\n",
    "\treturn X[X.columns[selector.get_support(indices=True)]], selector"
   ]
  },
  {
   "cell_type": "markdown",
   "metadata": {},
   "source": [
    "Split dataset into train and test subsets"
   ]
  },
  {
   "cell_type": "code",
   "execution_count": 14,
   "metadata": {},
   "outputs": [],
   "source": [
    "X, fs = select_features(X_raw, y)\n",
    "X_train, X_test, y_train, y_test = train_test_split(X, y, test_size=0.2, random_state=2)"
   ]
  },
  {
   "cell_type": "markdown",
   "metadata": {},
   "source": [
    "Display feature's scores"
   ]
  },
  {
   "cell_type": "code",
   "execution_count": 15,
   "metadata": {},
   "outputs": [
    {
     "data": {
      "image/png": "[encoded data removed]",
      "text/plain": [
       "<Figure size 640x480 with 1 Axes>"
      ]
     },
     "metadata": {},
     "output_type": "display_data"
    }
   ],
   "source": [
    "plt.bar([i for i in range(len(fs.scores_))], fs.scores_)\n",
    "plt.show()"
   ]
  },
  {
   "cell_type": "markdown",
   "metadata": {},
   "source": [
    "# Machine Learning"
   ]
  },
  {
   "cell_type": "code",
   "execution_count": 16,
   "metadata": {},
   "outputs": [],
   "source": [
    "from sklearn.linear_model import LinearRegression\n",
    "from sklearn.svm import SVR\n",
    "from sklearn.ensemble import RandomForestRegressor, BaggingRegressor, AdaBoostRegressor, GradientBoostingRegressor\n",
    "from sklearn.metrics import mean_squared_error"
   ]
  },
  {
   "cell_type": "markdown",
   "metadata": {},
   "source": [
    "Declare some machine learning models with default params"
   ]
  },
  {
   "cell_type": "code",
   "execution_count": 17,
   "metadata": {},
   "outputs": [],
   "source": [
    "linear = LinearRegression()\n",
    "svr = SVR()\n",
    "random_forest = RandomForestRegressor()\n",
    "bagging = BaggingRegressor()\n",
    "ada_boost = AdaBoostRegressor()\n",
    "gradient_boost = GradientBoostingRegressor()\n",
    "models = [('linear', linear), ('svr', svr), ('random_forest',\n",
    "                                                      random_forest), ('bagging', bagging), ('ada_boost', ada_boost), ('gradient_boost', gradient_boost)]\n"
   ]
  },
  {
   "cell_type": "markdown",
   "metadata": {},
   "source": [
    "Training all models"
   ]
  },
  {
   "cell_type": "code",
   "execution_count": 18,
   "metadata": {},
   "outputs": [],
   "source": [
    "for name, model in models:\n",
    "    model.fit(X_train, y_train)"
   ]
  },
  {
   "cell_type": "markdown",
   "metadata": {},
   "source": [
    "Predict and compute **mean_squared_error** of each model"
   ]
  },
  {
   "cell_type": "code",
   "execution_count": 19,
   "metadata": {},
   "outputs": [],
   "source": [
    "preds = list(map(lambda model : model[1].predict(X_test), models))\n",
    "ml_mses = list(map(lambda model, pred : (model[0], mean_squared_error(y_test, pred)), models, preds))"
   ]
  },
  {
   "cell_type": "markdown",
   "metadata": {},
   "source": [
    "# LSTM"
   ]
  },
  {
   "cell_type": "code",
   "execution_count": 20,
   "metadata": {},
   "outputs": [
    {
     "name": "stderr",
     "output_type": "stream",
     "text": [
      "2022-11-21 15:30:52.570876: I tensorflow/core/platform/cpu_feature_guard.cc:193] This TensorFlow binary is optimized with oneAPI Deep Neural Network Library (oneDNN) to use the following CPU instructions in performance-critical operations:  AVX2 AVX512F AVX512_VNNI FMA\n",
      "To enable them in other operations, rebuild TensorFlow with the appropriate compiler flags.\n",
      "2022-11-21 15:30:52.830916: I tensorflow/core/util/util.cc:169] oneDNN custom operations are on. You may see slightly different numerical results due to floating-point round-off errors from different computation orders. To turn them off, set the environment variable `TF_ENABLE_ONEDNN_OPTS=0`.\n",
      "2022-11-21 15:30:52.927180: E tensorflow/stream_executor/cuda/cuda_blas.cc:2981] Unable to register cuBLAS factory: Attempting to register factory for plugin cuBLAS when one has already been registered\n",
      "2022-11-21 15:30:53.985526: W tensorflow/stream_executor/platform/default/dso_loader.cc:64] Could not load dynamic library 'libnvinfer.so.7'; dlerror: libnvinfer.so.7: cannot open shared object file: No such file or directory; LD_LIBRARY_PATH: :/home/ducnm/miniconda3/lib/\n",
      "2022-11-21 15:30:53.985685: W tensorflow/stream_executor/platform/default/dso_loader.cc:64] Could not load dynamic library 'libnvinfer_plugin.so.7'; dlerror: libnvinfer_plugin.so.7: cannot open shared object file: No such file or directory; LD_LIBRARY_PATH: :/home/ducnm/miniconda3/lib/\n",
      "2022-11-21 15:30:53.985693: W tensorflow/compiler/tf2tensorrt/utils/py_utils.cc:38] TF-TRT Warning: Cannot dlopen some TensorRT libraries. If you would like to use Nvidia GPU with TensorRT, please make sure the missing libraries mentioned above are installed properly.\n"
     ]
    }
   ],
   "source": [
    "from keras.models import Sequential\n",
    "from keras.layers import Dense, LSTM, Dropout\n",
    "from keras.metrics import MeanSquaredError"
   ]
  },
  {
   "cell_type": "markdown",
   "metadata": {},
   "source": [
    "Build **LSTM** model"
   ]
  },
  {
   "cell_type": "code",
   "execution_count": 21,
   "metadata": {},
   "outputs": [],
   "source": [
    "def build_model(number_of_feature):\n",
    "    model = Sequential()\n",
    "    model.add(LSTM(128, return_sequences=False,\n",
    "              input_shape=(number_of_feature, 1)))\n",
    "    model.add(Dense(128, activation='relu'))\n",
    "    model.add(Dropout(0.2))\n",
    "    model.add(Dense(64))\n",
    "    model.add(Dropout(0.2))\n",
    "    model.add(Dense(32))\n",
    "    model.add(Dropout(0.2))\n",
    "    # model.add(LSTM(50, return_sequences=False))\n",
    "    model.add(Dense(1, activation='linear'))\n",
    "\n",
    "    model.compile(optimizer='adam',\n",
    "                  loss='mse', metrics=[MeanSquaredError()])\n",
    "    return model"
   ]
  },
  {
   "cell_type": "code",
   "execution_count": 22,
   "metadata": {},
   "outputs": [
    {
     "name": "stderr",
     "output_type": "stream",
     "text": [
      "2022-11-21 15:30:54.997014: I tensorflow/stream_executor/cuda/cuda_gpu_executor.cc:966] could not open file to read NUMA node: /sys/bus/pci/devices/0000:01:00.0/numa_node\n",
      "Your kernel may have been built without NUMA support.\n",
      "2022-11-21 15:30:55.028151: I tensorflow/stream_executor/cuda/cuda_gpu_executor.cc:966] could not open file to read NUMA node: /sys/bus/pci/devices/0000:01:00.0/numa_node\n",
      "Your kernel may have been built without NUMA support.\n",
      "2022-11-21 15:30:55.028503: I tensorflow/stream_executor/cuda/cuda_gpu_executor.cc:966] could not open file to read NUMA node: /sys/bus/pci/devices/0000:01:00.0/numa_node\n",
      "Your kernel may have been built without NUMA support.\n",
      "2022-11-21 15:30:55.029534: I tensorflow/core/platform/cpu_feature_guard.cc:193] This TensorFlow binary is optimized with oneAPI Deep Neural Network Library (oneDNN) to use the following CPU instructions in performance-critical operations:  AVX2 AVX512F AVX512_VNNI FMA\n",
      "To enable them in other operations, rebuild TensorFlow with the appropriate compiler flags.\n",
      "2022-11-21 15:30:55.031726: I tensorflow/stream_executor/cuda/cuda_gpu_executor.cc:966] could not open file to read NUMA node: /sys/bus/pci/devices/0000:01:00.0/numa_node\n",
      "Your kernel may have been built without NUMA support.\n",
      "2022-11-21 15:30:55.032105: I tensorflow/stream_executor/cuda/cuda_gpu_executor.cc:966] could not open file to read NUMA node: /sys/bus/pci/devices/0000:01:00.0/numa_node\n",
      "Your kernel may have been built without NUMA support.\n",
      "2022-11-21 15:30:55.032435: I tensorflow/stream_executor/cuda/cuda_gpu_executor.cc:966] could not open file to read NUMA node: /sys/bus/pci/devices/0000:01:00.0/numa_node\n",
      "Your kernel may have been built without NUMA support.\n",
      "2022-11-21 15:30:55.982232: I tensorflow/stream_executor/cuda/cuda_gpu_executor.cc:966] could not open file to read NUMA node: /sys/bus/pci/devices/0000:01:00.0/numa_node\n",
      "Your kernel may have been built without NUMA support.\n",
      "2022-11-21 15:30:55.982982: I tensorflow/stream_executor/cuda/cuda_gpu_executor.cc:966] could not open file to read NUMA node: /sys/bus/pci/devices/0000:01:00.0/numa_node\n",
      "Your kernel may have been built without NUMA support.\n",
      "2022-11-21 15:30:55.982997: I tensorflow/core/common_runtime/gpu/gpu_device.cc:1700] Could not identify NUMA node of platform GPU id 0, defaulting to 0.  Your kernel may not have been built with NUMA support.\n",
      "2022-11-21 15:30:55.983276: I tensorflow/stream_executor/cuda/cuda_gpu_executor.cc:966] could not open file to read NUMA node: /sys/bus/pci/devices/0000:01:00.0/numa_node\n",
      "Your kernel may have been built without NUMA support.\n",
      "2022-11-21 15:30:55.983324: I tensorflow/core/common_runtime/gpu/gpu_device.cc:1616] Created device /job:localhost/replica:0/task:0/device:GPU:0 with 3435 MB memory:  -> device: 0, name: NVIDIA GeForce RTX 3060 Laptop GPU, pci bus id: 0000:01:00.0, compute capability: 8.6\n"
     ]
    }
   ],
   "source": [
    "lstm = build_model(10)"
   ]
  },
  {
   "cell_type": "markdown",
   "metadata": {},
   "source": [
    "Training model"
   ]
  },
  {
   "cell_type": "code",
   "execution_count": 23,
   "metadata": {},
   "outputs": [
    {
     "name": "stdout",
     "output_type": "stream",
     "text": [
      "Epoch 1/100\n"
     ]
    },
    {
     "name": "stderr",
     "output_type": "stream",
     "text": [
      "2022-11-21 15:30:58.718187: I tensorflow/stream_executor/cuda/cuda_dnn.cc:384] Loaded cuDNN version 8100\n"
     ]
    },
    {
     "name": "stdout",
     "output_type": "stream",
     "text": [
      " 1/10 [==>...........................] - ETA: 30s - loss: 14.6962 - mean_squared_error: 14.6962"
     ]
    },
    {
     "name": "stderr",
     "output_type": "stream",
     "text": [
      "2022-11-21 15:30:59.836526: I tensorflow/stream_executor/cuda/cuda_blas.cc:1614] TensorFloat-32 will be used for the matrix multiplication. This will only be logged once.\n"
     ]
    },
    {
     "name": "stdout",
     "output_type": "stream",
     "text": [
      "10/10 [==============================] - 4s 50ms/step - loss: 5.0980 - mean_squared_error: 5.0980 - val_loss: 0.8928 - val_mean_squared_error: 0.8928\n",
      "Epoch 2/100\n",
      "10/10 [==============================] - 0s 11ms/step - loss: 1.5244 - mean_squared_error: 1.5244 - val_loss: 0.8135 - val_mean_squared_error: 0.8135\n",
      "Epoch 3/100\n",
      "10/10 [==============================] - 0s 9ms/step - loss: 1.2918 - mean_squared_error: 1.2918 - val_loss: 0.8642 - val_mean_squared_error: 0.8642\n",
      "Epoch 4/100\n",
      "10/10 [==============================] - 0s 8ms/step - loss: 1.2393 - mean_squared_error: 1.2393 - val_loss: 0.6537 - val_mean_squared_error: 0.6537\n",
      "Epoch 5/100\n",
      "10/10 [==============================] - 0s 12ms/step - loss: 0.9368 - mean_squared_error: 0.9368 - val_loss: 0.5770 - val_mean_squared_error: 0.5770\n",
      "Epoch 6/100\n",
      "10/10 [==============================] - 0s 11ms/step - loss: 0.8300 - mean_squared_error: 0.8300 - val_loss: 0.5272 - val_mean_squared_error: 0.5272\n",
      "Epoch 7/100\n",
      "10/10 [==============================] - 0s 9ms/step - loss: 0.7793 - mean_squared_error: 0.7793 - val_loss: 0.4528 - val_mean_squared_error: 0.4528\n",
      "Epoch 8/100\n",
      "10/10 [==============================] - 0s 9ms/step - loss: 0.6726 - mean_squared_error: 0.6726 - val_loss: 0.4434 - val_mean_squared_error: 0.4434\n",
      "Epoch 9/100\n",
      "10/10 [==============================] - 0s 9ms/step - loss: 0.6908 - mean_squared_error: 0.6908 - val_loss: 0.4158 - val_mean_squared_error: 0.4158\n",
      "Epoch 10/100\n",
      "10/10 [==============================] - 0s 10ms/step - loss: 0.6371 - mean_squared_error: 0.6371 - val_loss: 0.4143 - val_mean_squared_error: 0.4143\n",
      "Epoch 11/100\n",
      "10/10 [==============================] - 0s 12ms/step - loss: 0.6705 - mean_squared_error: 0.6705 - val_loss: 0.4693 - val_mean_squared_error: 0.4693\n",
      "Epoch 12/100\n",
      "10/10 [==============================] - 0s 11ms/step - loss: 0.6574 - mean_squared_error: 0.6574 - val_loss: 0.4567 - val_mean_squared_error: 0.4567\n",
      "Epoch 13/100\n",
      "10/10 [==============================] - 0s 11ms/step - loss: 0.6245 - mean_squared_error: 0.6245 - val_loss: 0.3940 - val_mean_squared_error: 0.3940\n",
      "Epoch 14/100\n",
      "10/10 [==============================] - 0s 11ms/step - loss: 0.5957 - mean_squared_error: 0.5957 - val_loss: 0.3869 - val_mean_squared_error: 0.3869\n",
      "Epoch 15/100\n",
      "10/10 [==============================] - 0s 12ms/step - loss: 0.5683 - mean_squared_error: 0.5683 - val_loss: 0.4028 - val_mean_squared_error: 0.4028\n",
      "Epoch 16/100\n",
      "10/10 [==============================] - 0s 10ms/step - loss: 0.5855 - mean_squared_error: 0.5855 - val_loss: 0.3814 - val_mean_squared_error: 0.3814\n",
      "Epoch 17/100\n",
      "10/10 [==============================] - 0s 10ms/step - loss: 0.5655 - mean_squared_error: 0.5655 - val_loss: 0.3797 - val_mean_squared_error: 0.3797\n",
      "Epoch 18/100\n",
      "10/10 [==============================] - 0s 11ms/step - loss: 0.5513 - mean_squared_error: 0.5513 - val_loss: 0.4412 - val_mean_squared_error: 0.4412\n",
      "Epoch 19/100\n",
      "10/10 [==============================] - 0s 10ms/step - loss: 0.5785 - mean_squared_error: 0.5785 - val_loss: 0.3753 - val_mean_squared_error: 0.3753\n",
      "Epoch 20/100\n",
      "10/10 [==============================] - 0s 11ms/step - loss: 0.5515 - mean_squared_error: 0.5515 - val_loss: 0.4366 - val_mean_squared_error: 0.4366\n",
      "Epoch 21/100\n",
      "10/10 [==============================] - 0s 11ms/step - loss: 0.5509 - mean_squared_error: 0.5509 - val_loss: 0.4374 - val_mean_squared_error: 0.4374\n",
      "Epoch 22/100\n",
      "10/10 [==============================] - 0s 12ms/step - loss: 0.5478 - mean_squared_error: 0.5478 - val_loss: 0.3823 - val_mean_squared_error: 0.3823\n",
      "Epoch 23/100\n",
      "10/10 [==============================] - 0s 10ms/step - loss: 0.5610 - mean_squared_error: 0.5610 - val_loss: 0.3845 - val_mean_squared_error: 0.3845\n",
      "Epoch 24/100\n",
      "10/10 [==============================] - 0s 10ms/step - loss: 0.5273 - mean_squared_error: 0.5273 - val_loss: 0.3877 - val_mean_squared_error: 0.3877\n",
      "Epoch 25/100\n",
      "10/10 [==============================] - 0s 10ms/step - loss: 0.5298 - mean_squared_error: 0.5298 - val_loss: 0.3728 - val_mean_squared_error: 0.3728\n",
      "Epoch 26/100\n",
      "10/10 [==============================] - 0s 11ms/step - loss: 0.5281 - mean_squared_error: 0.5281 - val_loss: 0.3750 - val_mean_squared_error: 0.3750\n",
      "Epoch 27/100\n",
      "10/10 [==============================] - 0s 12ms/step - loss: 0.5329 - mean_squared_error: 0.5329 - val_loss: 0.3818 - val_mean_squared_error: 0.3818\n",
      "Epoch 28/100\n",
      "10/10 [==============================] - 0s 10ms/step - loss: 0.4948 - mean_squared_error: 0.4948 - val_loss: 0.3907 - val_mean_squared_error: 0.3907\n",
      "Epoch 29/100\n",
      "10/10 [==============================] - 0s 10ms/step - loss: 0.5090 - mean_squared_error: 0.5090 - val_loss: 0.3743 - val_mean_squared_error: 0.3743\n",
      "Epoch 30/100\n",
      "10/10 [==============================] - 0s 12ms/step - loss: 0.5192 - mean_squared_error: 0.5192 - val_loss: 0.3710 - val_mean_squared_error: 0.3710\n",
      "Epoch 31/100\n",
      "10/10 [==============================] - 0s 10ms/step - loss: 0.5409 - mean_squared_error: 0.5409 - val_loss: 0.3713 - val_mean_squared_error: 0.3713\n",
      "Epoch 32/100\n",
      "10/10 [==============================] - 0s 10ms/step - loss: 0.5913 - mean_squared_error: 0.5913 - val_loss: 0.5509 - val_mean_squared_error: 0.5509\n",
      "Epoch 33/100\n",
      "10/10 [==============================] - 0s 11ms/step - loss: 0.5676 - mean_squared_error: 0.5676 - val_loss: 0.5397 - val_mean_squared_error: 0.5397\n",
      "Epoch 34/100\n",
      "10/10 [==============================] - 0s 12ms/step - loss: 0.5515 - mean_squared_error: 0.5515 - val_loss: 0.4344 - val_mean_squared_error: 0.4344\n",
      "Epoch 35/100\n",
      "10/10 [==============================] - 0s 11ms/step - loss: 0.5156 - mean_squared_error: 0.5156 - val_loss: 0.3943 - val_mean_squared_error: 0.3943\n",
      "Epoch 36/100\n",
      "10/10 [==============================] - 0s 12ms/step - loss: 0.4950 - mean_squared_error: 0.4950 - val_loss: 0.3622 - val_mean_squared_error: 0.3622\n",
      "Epoch 37/100\n",
      "10/10 [==============================] - 0s 10ms/step - loss: 0.5003 - mean_squared_error: 0.5003 - val_loss: 0.3628 - val_mean_squared_error: 0.3628\n",
      "Epoch 38/100\n",
      "10/10 [==============================] - 0s 10ms/step - loss: 0.4967 - mean_squared_error: 0.4967 - val_loss: 0.3771 - val_mean_squared_error: 0.3771\n",
      "Epoch 39/100\n",
      "10/10 [==============================] - 0s 10ms/step - loss: 0.4908 - mean_squared_error: 0.4908 - val_loss: 0.3697 - val_mean_squared_error: 0.3697\n",
      "Epoch 40/100\n",
      "10/10 [==============================] - 0s 11ms/step - loss: 0.4604 - mean_squared_error: 0.4604 - val_loss: 0.3669 - val_mean_squared_error: 0.3669\n",
      "Epoch 41/100\n",
      "10/10 [==============================] - 0s 11ms/step - loss: 0.4759 - mean_squared_error: 0.4759 - val_loss: 0.3613 - val_mean_squared_error: 0.3613\n",
      "Epoch 42/100\n",
      "10/10 [==============================] - 0s 11ms/step - loss: 0.4707 - mean_squared_error: 0.4707 - val_loss: 0.3561 - val_mean_squared_error: 0.3561\n",
      "Epoch 43/100\n",
      "10/10 [==============================] - 0s 10ms/step - loss: 0.4597 - mean_squared_error: 0.4597 - val_loss: 0.3539 - val_mean_squared_error: 0.3539\n",
      "Epoch 44/100\n",
      "10/10 [==============================] - 0s 10ms/step - loss: 0.4946 - mean_squared_error: 0.4946 - val_loss: 0.4276 - val_mean_squared_error: 0.4276\n",
      "Epoch 45/100\n",
      "10/10 [==============================] - 0s 11ms/step - loss: 0.4878 - mean_squared_error: 0.4878 - val_loss: 0.4048 - val_mean_squared_error: 0.4048\n",
      "Epoch 46/100\n",
      "10/10 [==============================] - 0s 10ms/step - loss: 0.4893 - mean_squared_error: 0.4893 - val_loss: 0.3565 - val_mean_squared_error: 0.3565\n",
      "Epoch 47/100\n",
      "10/10 [==============================] - 0s 11ms/step - loss: 0.4768 - mean_squared_error: 0.4768 - val_loss: 0.3997 - val_mean_squared_error: 0.3997\n",
      "Epoch 48/100\n",
      "10/10 [==============================] - 0s 10ms/step - loss: 0.4584 - mean_squared_error: 0.4584 - val_loss: 0.3629 - val_mean_squared_error: 0.3629\n",
      "Epoch 49/100\n",
      "10/10 [==============================] - 0s 10ms/step - loss: 0.4527 - mean_squared_error: 0.4527 - val_loss: 0.3612 - val_mean_squared_error: 0.3612\n",
      "Epoch 50/100\n",
      "10/10 [==============================] - 0s 10ms/step - loss: 0.4685 - mean_squared_error: 0.4685 - val_loss: 0.3806 - val_mean_squared_error: 0.3806\n",
      "Epoch 51/100\n",
      "10/10 [==============================] - 0s 11ms/step - loss: 0.4194 - mean_squared_error: 0.4194 - val_loss: 0.3534 - val_mean_squared_error: 0.3534\n",
      "Epoch 52/100\n",
      "10/10 [==============================] - 0s 12ms/step - loss: 0.5022 - mean_squared_error: 0.5022 - val_loss: 0.4194 - val_mean_squared_error: 0.4194\n",
      "Epoch 53/100\n",
      "10/10 [==============================] - 0s 11ms/step - loss: 0.4479 - mean_squared_error: 0.4479 - val_loss: 0.3549 - val_mean_squared_error: 0.3549\n",
      "Epoch 54/100\n",
      "10/10 [==============================] - 0s 11ms/step - loss: 0.4384 - mean_squared_error: 0.4384 - val_loss: 0.3540 - val_mean_squared_error: 0.3540\n",
      "Epoch 55/100\n",
      "10/10 [==============================] - 0s 11ms/step - loss: 0.4490 - mean_squared_error: 0.4490 - val_loss: 0.3502 - val_mean_squared_error: 0.3502\n",
      "Epoch 56/100\n",
      "10/10 [==============================] - 0s 12ms/step - loss: 0.4303 - mean_squared_error: 0.4303 - val_loss: 0.4049 - val_mean_squared_error: 0.4049\n",
      "Epoch 57/100\n",
      "10/10 [==============================] - 0s 13ms/step - loss: 0.4326 - mean_squared_error: 0.4326 - val_loss: 0.3845 - val_mean_squared_error: 0.3845\n",
      "Epoch 58/100\n",
      "10/10 [==============================] - 0s 15ms/step - loss: 0.4360 - mean_squared_error: 0.4360 - val_loss: 0.3455 - val_mean_squared_error: 0.3455\n",
      "Epoch 59/100\n",
      "10/10 [==============================] - 0s 12ms/step - loss: 0.4513 - mean_squared_error: 0.4513 - val_loss: 0.3500 - val_mean_squared_error: 0.3500\n",
      "Epoch 60/100\n",
      "10/10 [==============================] - 0s 12ms/step - loss: 0.4445 - mean_squared_error: 0.4445 - val_loss: 0.3542 - val_mean_squared_error: 0.3542\n",
      "Epoch 61/100\n",
      "10/10 [==============================] - 0s 12ms/step - loss: 0.4355 - mean_squared_error: 0.4355 - val_loss: 0.3470 - val_mean_squared_error: 0.3470\n",
      "Epoch 62/100\n",
      "10/10 [==============================] - 0s 12ms/step - loss: 0.3880 - mean_squared_error: 0.3880 - val_loss: 0.3384 - val_mean_squared_error: 0.3384\n",
      "Epoch 63/100\n",
      "10/10 [==============================] - 0s 11ms/step - loss: 0.4332 - mean_squared_error: 0.4332 - val_loss: 0.3358 - val_mean_squared_error: 0.3358\n",
      "Epoch 64/100\n",
      "10/10 [==============================] - 0s 11ms/step - loss: 0.3987 - mean_squared_error: 0.3987 - val_loss: 0.3615 - val_mean_squared_error: 0.3615\n",
      "Epoch 65/100\n",
      "10/10 [==============================] - 0s 12ms/step - loss: 0.4325 - mean_squared_error: 0.4325 - val_loss: 0.3320 - val_mean_squared_error: 0.3320\n",
      "Epoch 66/100\n",
      "10/10 [==============================] - 0s 13ms/step - loss: 0.4245 - mean_squared_error: 0.4245 - val_loss: 0.3358 - val_mean_squared_error: 0.3358\n",
      "Epoch 67/100\n",
      "10/10 [==============================] - 0s 12ms/step - loss: 0.4115 - mean_squared_error: 0.4115 - val_loss: 0.3327 - val_mean_squared_error: 0.3327\n",
      "Epoch 68/100\n",
      "10/10 [==============================] - 0s 11ms/step - loss: 0.4245 - mean_squared_error: 0.4245 - val_loss: 0.3359 - val_mean_squared_error: 0.3359\n",
      "Epoch 69/100\n",
      "10/10 [==============================] - 0s 11ms/step - loss: 0.4387 - mean_squared_error: 0.4387 - val_loss: 0.3447 - val_mean_squared_error: 0.3447\n",
      "Epoch 70/100\n",
      "10/10 [==============================] - 0s 10ms/step - loss: 0.4136 - mean_squared_error: 0.4136 - val_loss: 0.3356 - val_mean_squared_error: 0.3356\n",
      "Epoch 71/100\n",
      "10/10 [==============================] - 0s 11ms/step - loss: 0.3831 - mean_squared_error: 0.3831 - val_loss: 0.3429 - val_mean_squared_error: 0.3429\n",
      "Epoch 72/100\n",
      "10/10 [==============================] - 0s 10ms/step - loss: 0.4432 - mean_squared_error: 0.4432 - val_loss: 0.3370 - val_mean_squared_error: 0.3370\n",
      "Epoch 73/100\n",
      "10/10 [==============================] - 0s 11ms/step - loss: 0.4067 - mean_squared_error: 0.4067 - val_loss: 0.3631 - val_mean_squared_error: 0.3631\n",
      "Epoch 74/100\n",
      "10/10 [==============================] - 0s 12ms/step - loss: 0.4035 - mean_squared_error: 0.4035 - val_loss: 0.3326 - val_mean_squared_error: 0.3326\n",
      "Epoch 75/100\n",
      "10/10 [==============================] - 0s 12ms/step - loss: 0.4219 - mean_squared_error: 0.4219 - val_loss: 0.3210 - val_mean_squared_error: 0.3210\n",
      "Epoch 76/100\n",
      "10/10 [==============================] - 0s 10ms/step - loss: 0.4022 - mean_squared_error: 0.4022 - val_loss: 0.3232 - val_mean_squared_error: 0.3232\n",
      "Epoch 77/100\n",
      "10/10 [==============================] - 0s 10ms/step - loss: 0.3848 - mean_squared_error: 0.3848 - val_loss: 0.3236 - val_mean_squared_error: 0.3236\n",
      "Epoch 78/100\n",
      "10/10 [==============================] - 0s 11ms/step - loss: 0.4120 - mean_squared_error: 0.4120 - val_loss: 0.3244 - val_mean_squared_error: 0.3244\n",
      "Epoch 79/100\n",
      "10/10 [==============================] - 0s 11ms/step - loss: 0.3977 - mean_squared_error: 0.3977 - val_loss: 0.3160 - val_mean_squared_error: 0.3160\n",
      "Epoch 80/100\n",
      "10/10 [==============================] - 0s 11ms/step - loss: 0.3885 - mean_squared_error: 0.3885 - val_loss: 0.3192 - val_mean_squared_error: 0.3192\n",
      "Epoch 81/100\n",
      "10/10 [==============================] - 0s 11ms/step - loss: 0.4104 - mean_squared_error: 0.4104 - val_loss: 0.3399 - val_mean_squared_error: 0.3399\n",
      "Epoch 82/100\n",
      "10/10 [==============================] - 0s 10ms/step - loss: 0.3999 - mean_squared_error: 0.3999 - val_loss: 0.3126 - val_mean_squared_error: 0.3126\n",
      "Epoch 83/100\n",
      "10/10 [==============================] - 0s 11ms/step - loss: 0.3970 - mean_squared_error: 0.3970 - val_loss: 0.3258 - val_mean_squared_error: 0.3258\n",
      "Epoch 84/100\n",
      "10/10 [==============================] - 0s 10ms/step - loss: 0.4018 - mean_squared_error: 0.4018 - val_loss: 0.3891 - val_mean_squared_error: 0.3891\n",
      "Epoch 85/100\n",
      "10/10 [==============================] - 0s 10ms/step - loss: 0.4060 - mean_squared_error: 0.4060 - val_loss: 0.3534 - val_mean_squared_error: 0.3534\n",
      "Epoch 86/100\n",
      "10/10 [==============================] - 0s 10ms/step - loss: 0.4049 - mean_squared_error: 0.4049 - val_loss: 0.3671 - val_mean_squared_error: 0.3671\n",
      "Epoch 87/100\n",
      "10/10 [==============================] - 0s 10ms/step - loss: 0.4283 - mean_squared_error: 0.4283 - val_loss: 0.3282 - val_mean_squared_error: 0.3282\n",
      "Epoch 88/100\n",
      "10/10 [==============================] - 0s 11ms/step - loss: 0.3980 - mean_squared_error: 0.3980 - val_loss: 0.3324 - val_mean_squared_error: 0.3324\n",
      "Epoch 89/100\n",
      "10/10 [==============================] - 0s 10ms/step - loss: 0.3948 - mean_squared_error: 0.3948 - val_loss: 0.3226 - val_mean_squared_error: 0.3226\n",
      "Epoch 90/100\n",
      "10/10 [==============================] - 0s 10ms/step - loss: 0.3996 - mean_squared_error: 0.3996 - val_loss: 0.3133 - val_mean_squared_error: 0.3133\n",
      "Epoch 91/100\n",
      "10/10 [==============================] - 0s 11ms/step - loss: 0.3865 - mean_squared_error: 0.3865 - val_loss: 0.3188 - val_mean_squared_error: 0.3188\n",
      "Epoch 92/100\n",
      "10/10 [==============================] - 0s 10ms/step - loss: 0.3885 - mean_squared_error: 0.3885 - val_loss: 0.3295 - val_mean_squared_error: 0.3295\n",
      "Epoch 93/100\n",
      "10/10 [==============================] - 0s 11ms/step - loss: 0.4063 - mean_squared_error: 0.4063 - val_loss: 0.3004 - val_mean_squared_error: 0.3004\n",
      "Epoch 94/100\n",
      "10/10 [==============================] - 0s 12ms/step - loss: 0.3774 - mean_squared_error: 0.3774 - val_loss: 0.3222 - val_mean_squared_error: 0.3222\n",
      "Epoch 95/100\n",
      "10/10 [==============================] - 0s 10ms/step - loss: 0.3766 - mean_squared_error: 0.3766 - val_loss: 0.3120 - val_mean_squared_error: 0.3120\n",
      "Epoch 96/100\n",
      "10/10 [==============================] - 0s 16ms/step - loss: 0.3984 - mean_squared_error: 0.3984 - val_loss: 0.3104 - val_mean_squared_error: 0.3104\n",
      "Epoch 97/100\n",
      "10/10 [==============================] - 0s 12ms/step - loss: 0.4096 - mean_squared_error: 0.4096 - val_loss: 0.3450 - val_mean_squared_error: 0.3450\n",
      "Epoch 98/100\n",
      "10/10 [==============================] - 0s 11ms/step - loss: 0.3983 - mean_squared_error: 0.3983 - val_loss: 0.3558 - val_mean_squared_error: 0.3558\n",
      "Epoch 99/100\n",
      "10/10 [==============================] - 0s 11ms/step - loss: 0.3931 - mean_squared_error: 0.3931 - val_loss: 0.3319 - val_mean_squared_error: 0.3319\n",
      "Epoch 100/100\n",
      "10/10 [==============================] - 0s 12ms/step - loss: 0.3835 - mean_squared_error: 0.3835 - val_loss: 0.3152 - val_mean_squared_error: 0.3152\n"
     ]
    },
    {
     "data": {
      "text/plain": [
       "<keras.callbacks.History at 0x7f0468077490>"
      ]
     },
     "execution_count": 23,
     "metadata": {},
     "output_type": "execute_result"
    }
   ],
   "source": [
    "lstm.fit(X_train, y_train, validation_split=0.05,\n",
    "         batch_size=128, epochs=100, shuffle=True)\n"
   ]
  },
  {
   "cell_type": "markdown",
   "metadata": {},
   "source": [
    "Predict and compute **MSE**"
   ]
  },
  {
   "cell_type": "code",
   "execution_count": 24,
   "metadata": {},
   "outputs": [
    {
     "name": "stdout",
     "output_type": "stream",
     "text": [
      "10/10 [==============================] - 0s 3ms/step\n"
     ]
    }
   ],
   "source": [
    "lstm_pred = lstm.predict(X_test)\n",
    "lstm_mse = mean_squared_error(y_test, lstm_pred)"
   ]
  },
  {
   "cell_type": "markdown",
   "metadata": {},
   "source": [
    "Print all MSE"
   ]
  },
  {
   "cell_type": "code",
   "execution_count": 25,
   "metadata": {},
   "outputs": [
    {
     "name": "stdout",
     "output_type": "stream",
     "text": [
      "linear:  0.2148742134290496\n",
      "svr:  0.6824682737735548\n",
      "random_forest:  0.231336569579288\n",
      "bagging:  0.24919093851132687\n",
      "ada_boost:  0.28935704847240407\n",
      "gradient_boost:  0.21598538414403182\n",
      "lstm:  0.2312630503901547\n"
     ]
    }
   ],
   "source": [
    "mses = ml_mses + [('lstm', lstm_mse)]\n",
    "for name, mse in mses:\n",
    "    print(name + \": \", mse)"
   ]
  }
 ],
 "metadata": {
  "kernelspec": {
   "display_name": "Python 3",
   "language": "python",
   "name": "python3"
  },
  "language_info": {
   "codemirror_mode": {
    "name": "ipython",
    "version": 3
   },
   "file_extension": ".py",
   "mimetype": "text/x-python",
   "name": "python",
   "nbconvert_exporter": "python",
   "pygments_lexer": "ipython3",
   "version": "3.8.10 (default, Jun 22 2022, 20:18:18) \n[GCC 9.4.0]"
  },
  "orig_nbformat": 4,
  "vscode": {
   "interpreter": {
    "hash": "916dbcbb3f70747c44a77c7bcd40155683ae19c65e1c03b4aa3499c5328201f1"
   }
  }
 },
 "nbformat": 4,
 "nbformat_minor": 2
}
