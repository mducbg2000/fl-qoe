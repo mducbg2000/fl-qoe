{
 "cells": [
  {
   "cell_type": "code",
   "execution_count": null,
   "metadata": {},
   "outputs": [],
   "source": [
    "from typing import List, Tuple\n",
    "from model import lstm, mlp, bidirectional_lstm, gru\n",
    "from utils import read_raw_dataset, select_features_name, read_chunk, train_with_data\n",
    "from fed_algo import fed_avg\n",
    "from keras.models import Sequential"
   ]
  },
  {
   "cell_type": "code",
   "execution_count": null,
   "metadata": {},
   "outputs": [],
   "source": [
    "X_raw, y = read_raw_dataset(\"datasets/pokemon.csv\",\n",
    "                            index_col='id',\n",
    "                            target_name='MOS',\n",
    "                            drop=['user_id'])\n",
    "features = select_features_name(X_raw, y)\n",
    "X_test, y_test = read_chunk('pokemon', 0, features)\n",
    "result = {\n",
    "    'num_clients': [5.0, 20.0, 50.0, 100.0, 150.0],\n",
    "    'lstm': [],\n",
    "    'bidirectional': [], \n",
    "    'mlp': [], \n",
    "    'gru': []\n",
    "}"
   ]
  },
  {
   "cell_type": "code",
   "execution_count": null,
   "metadata": {},
   "outputs": [],
   "source": [
    "models = [lstm(), bidirectional_lstm(), mlp(), gru()]\n",
    "models_name = ['lstm', 'bidirectional', 'mlp', 'gru']"
   ]
  },
  {
   "cell_type": "code",
   "execution_count": null,
   "metadata": {},
   "outputs": [],
   "source": [
    "datasets = [\n",
    "    read_chunk('pokemon', chunk_id + 1, features) for chunk_id in range(5)\n",
    "]\n",
    "\n",
    "num_clients = [5, 20, 50, 100, 150]\n",
    "\n",
    "for i, num_client in enumerate(num_clients):\n",
    "\n",
    "    num_client_this_round = 5 if i == 0 else num_client - num_clients[i - 1]\n",
    "\n",
    "    datasets = [\n",
    "        read_chunk('pokemon',\n",
    "                   chunk_id + 1 + num_client - num_client_this_round, features)\n",
    "        for chunk_id in range(num_client_this_round)\n",
    "    ]\n",
    "\n",
    "    for name, model in zip(models_name, models):\n",
    "        old_weights = model.get_weights()\n",
    "        local_models = [\n",
    "            train_with_data(model, old_weights, dataset)\n",
    "            for dataset in datasets\n",
    "        ]\n",
    "        new_weights = fed_avg(local_models)\n",
    "        model.set_weights(new_weights)\n",
    "        print(\"Model: {}\".format(name))\n",
    "        result[name].append(model.evaluate(X_test, y_test)[0])"
   ]
  },
  {
   "cell_type": "code",
   "execution_count": null,
   "metadata": {},
   "outputs": [],
   "source": [
    "import json\n",
    "\n",
    "json_result = json.dumps(result, indent=4)\n",
    "print(json_result)"
   ]
  }
 ],
 "metadata": {
  "kernelspec": {
   "display_name": "Python 3",
   "language": "python",
   "name": "python3"
  },
  "language_info": {
   "codemirror_mode": {
    "name": "ipython",
    "version": 3
   },
   "file_extension": ".py",
   "mimetype": "text/x-python",
   "name": "python",
   "nbconvert_exporter": "python",
   "pygments_lexer": "ipython3",
   "version": "3.8.10 (default, Nov 14 2022, 12:59:47) \n[GCC 9.4.0]"
  },
  "orig_nbformat": 4,
  "vscode": {
   "interpreter": {
    "hash": "916dbcbb3f70747c44a77c7bcd40155683ae19c65e1c03b4aa3499c5328201f1"
   }
  }
 },
 "nbformat": 4,
 "nbformat_minor": 2
}
